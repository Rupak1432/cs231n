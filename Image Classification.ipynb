{
 "cells": [
  {
   "cell_type": "markdown",
   "metadata": {},
   "source": [
    "#Nearest Neighbor Classifier"
   ]
  },
  {
   "cell_type": "code",
   "execution_count": 22,
   "metadata": {
    "collapsed": true
   },
   "outputs": [],
   "source": [
    "from itertools import islice\n",
    "\n",
    "def take(n, iterable):\n",
    "    \"Return first n items of the iterable as a list\"\n",
    "    return list(islice(iterable, n))"
   ]
  },
  {
   "cell_type": "code",
   "execution_count": 23,
   "metadata": {
    "collapsed": true
   },
   "outputs": [],
   "source": [
    "import pickle\n",
    "def unpickle(file):\n",
    "    with open(file, 'rb') as fo:\n",
    "        dict = pickle.load(fo, encoding='bytes')\n",
    "    return dict"
   ]
  },
  {
   "cell_type": "code",
   "execution_count": 24,
   "metadata": {
    "collapsed": true
   },
   "outputs": [],
   "source": [
    "dict1 = unpickle('./cifar-10-batches-py/data_batch_1')\n",
    "dict2 = unpickle('./cifar-10-batches-py/data_batch_2')\n",
    "dict3 = unpickle('./cifar-10-batches-py/data_batch_3')\n",
    "dict4 = unpickle('./cifar-10-batches-py/data_batch_4')\n",
    "dict5 = unpickle('./cifar-10-batches-py/data_batch_5')\n",
    "items = take(5, dict1.items())\n"
   ]
  },
  {
   "cell_type": "code",
   "execution_count": 25,
   "metadata": {},
   "outputs": [
    {
     "data": {
      "text/plain": [
       "\"\\nprint(items[0])\\nprint(items[1])\\nprint(items[2])\\nprint(items[3])\\nprint(dict1)\\ndict1[b'data']\\n\""
      ]
     },
     "execution_count": 25,
     "metadata": {},
     "output_type": "execute_result"
    }
   ],
   "source": [
    "'''\n",
    "print(items[0])\n",
    "print(items[1])\n",
    "print(items[2])\n",
    "print(items[3])\n",
    "print(dict1)\n",
    "dict1[b'data']\n",
    "'''"
   ]
  },
  {
   "cell_type": "markdown",
   "metadata": {},
   "source": [
    "b'batch_label' : b'training batch 1 of 5'\n",
    "\n",
    "b'labels' : [6, 9, 9, 4.....]  ===== labels for 10,000 images\n",
    "\n",
    "b'data' : array([[ 59,  43,  50, ..., 140,  84,  72],\n",
    "       [154, 126, 105, ..., 139, 142, 144],\n",
    "       [255, 253, 253, ...,  83,  83,  84],\n",
    "       ...,\n",
    "       [ 71,  60,  74, ...,  68,  69,  68],\n",
    "       [250, 254, 211, ..., 215, 255, 254],\n",
    "       [ 62,  61,  60, ..., 130, 130, 131]], dtype=uint8))   ===== 10,000 x 3072 numpy array (check CIFAR site for more detail)\n",
    "       \n",
    "b'filenames' : [b'leptodactylus_pentadactylus_s_000004.png'.....]    ==== names for 10,000 images\n"
   ]
  },
  {
   "cell_type": "code",
   "execution_count": 26,
   "metadata": {},
   "outputs": [
    {
     "name": "stdout",
     "output_type": "stream",
     "text": [
      "10000\n",
      "50000\n",
      "<class 'list'>\n",
      "<class 'list'>\n",
      "50000\n"
     ]
    },
    {
     "data": {
      "text/plain": [
       "(50000, 3072)"
      ]
     },
     "execution_count": 26,
     "metadata": {},
     "output_type": "execute_result"
    }
   ],
   "source": [
    "import numpy as np\n",
    "\n",
    "Ytr = []\n",
    "Xtr = np.concatenate((dict1[b'data'],dict2[b'data'],dict3[b'data'],dict4[b'data'],dict5[b'data']))\n",
    "Ytr = dict1[b'labels']\n",
    "print(len(Ytr))\n",
    "print(len(Xtr))\n",
    "print(type(Ytr))\n",
    "Ytr.extend(dict2[b'labels'])  #.append(dict3[b'labels']).append(dict4[b'labels']).append(dict5[b'labels'])\n",
    "Ytr.extend(dict3[b'labels'])\n",
    "Ytr.extend(dict4[b'labels'])\n",
    "Ytr.extend(dict5[b'labels'])\n",
    "print(type(Ytr))\n",
    "print(len(Ytr))\n",
    "np.shape(Xtr)"
   ]
  },
  {
   "cell_type": "code",
   "execution_count": 27,
   "metadata": {
    "collapsed": true
   },
   "outputs": [],
   "source": [
    "dict6 = unpickle('./cifar-10-batches-py/test_batch')\n",
    "Xte = dict6[b'data']\n",
    "Yte = dict6[b'labels']"
   ]
  },
  {
   "cell_type": "code",
   "execution_count": 28,
   "metadata": {},
   "outputs": [
    {
     "name": "stdout",
     "output_type": "stream",
     "text": [
      "(10000, 3072)\n",
      "10000\n"
     ]
    }
   ],
   "source": [
    "print(np.shape(Xte))\n",
    "print(len(Yte))"
   ]
  },
  {
   "cell_type": "code",
   "execution_count": 31,
   "metadata": {
    "collapsed": true
   },
   "outputs": [],
   "source": [
    "class NearestNeighbor(object):\n",
    "    def __init__(self):\n",
    "        pass\n",
    "    def train(self, X, y):\n",
    "        \"\"\" X is N x D where each row is an example. Y is 1-dimension of size N \"\"\"\n",
    "        # the nearest neighbor classifier simply remembers all the training data\n",
    "        self.Xtr = X\n",
    "        self.ytr = y\n",
    "\n",
    "    def predict(self, X):\n",
    "        \"\"\" X is N x D where each row is an example we wish to predict label for \"\"\"\n",
    "        num_test = X.shape[0]\n",
    "        # lets make sure that the output type matches the input type\n",
    "        Ypred = np.zeros(num_test, dtype = type(self.ytr))\n",
    "        print(num_test)\n",
    "\n",
    "        # loop over all test rows\n",
    "        for i in range(num_test):\n",
    "          # find the nearest training image to the i'th test image\n",
    "          # using the L1 distance (sum of absolute value differences)\n",
    "            distances = np.sum(np.abs(self.Xtr - X[i,:]), axis = 1)\n",
    "            min_index = np.argmin(distances) # get the index with smallest distance\n",
    "            Ypred[i] = self.ytr[min_index] # predict the label of the nearest example\n",
    "            if (i%100 == 0):\n",
    "                print(i)\n",
    "\n",
    "        return Ypred"
   ]
  },
  {
   "cell_type": "code",
   "execution_count": 34,
   "metadata": {},
   "outputs": [
    {
     "name": "stdout",
     "output_type": "stream",
     "text": [
      "0\n",
      "100\n",
      "200\n",
      "300\n",
      "400\n",
      "500\n",
      "600\n",
      "700\n",
      "800\n",
      "900\n",
      "1000\n",
      "1100\n",
      "1200\n",
      "1300\n",
      "1400\n",
      "1500\n",
      "1600\n",
      "1700\n",
      "1800\n",
      "1900\n",
      "2000\n",
      "2100\n",
      "2200\n",
      "2300\n",
      "2400\n",
      "2500\n",
      "2600\n",
      "2700\n",
      "2800\n",
      "2900\n",
      "3000\n",
      "3100\n",
      "3200\n",
      "3300\n",
      "3400\n",
      "3500\n",
      "3600\n",
      "3700\n",
      "3800\n",
      "3900\n",
      "4000\n",
      "4100\n",
      "4200\n",
      "4300\n",
      "4400\n",
      "4500\n",
      "4600\n",
      "4700\n",
      "4800\n",
      "4900\n",
      "5000\n",
      "5100\n",
      "5200\n",
      "5300\n",
      "5400\n",
      "5500\n",
      "5600\n",
      "5700\n",
      "5800\n",
      "5900\n",
      "6000\n",
      "6100\n",
      "6200\n",
      "6300\n",
      "6400\n",
      "6500\n",
      "6600\n",
      "6700\n",
      "6800\n",
      "6900\n",
      "7000\n",
      "7100\n",
      "7200\n",
      "7300\n",
      "7400\n",
      "7500\n",
      "7600\n",
      "7700\n",
      "7800\n",
      "7900\n",
      "8000\n",
      "8100\n",
      "8200\n",
      "8300\n",
      "8400\n",
      "8500\n",
      "8600\n",
      "8700\n",
      "8800\n",
      "8900\n",
      "9000\n",
      "9100\n",
      "9200\n",
      "9300\n",
      "9400\n",
      "9500\n",
      "9600\n",
      "9700\n",
      "9800\n",
      "9900\n",
      "accuracy:  0.2492\n",
      "Wall time: 1h 26min 18s\n"
     ]
    }
   ],
   "source": [
    "%%time\n",
    "nn = NearestNeighbor() # create a Nearest Neighbor classifier class\n",
    "nn.train(Xtr, Ytr) # train the classifier on the training images and labels\n",
    "\n",
    "Yte_predict = nn.predict(Xte) # predict labels on the test images\n",
    "# and now print the classification accuracy, which is the average number\n",
    "# of examples that are correctly predicted (i.e. label matches)\n",
    "print ('accuracy: ' , ( np.mean(Yte_predict == Yte) ))\n"
   ]
  },
  {
   "cell_type": "code",
   "execution_count": null,
   "metadata": {
    "collapsed": true
   },
   "outputs": [],
   "source": []
  },
  {
   "cell_type": "code",
   "execution_count": null,
   "metadata": {
    "collapsed": true
   },
   "outputs": [],
   "source": []
  }
 ],
 "metadata": {
  "kernelspec": {
   "display_name": "Python 3",
   "language": "python",
   "name": "python3"
  },
  "language_info": {
   "codemirror_mode": {
    "name": "ipython",
    "version": 3
   },
   "file_extension": ".py",
   "mimetype": "text/x-python",
   "name": "python",
   "nbconvert_exporter": "python",
   "pygments_lexer": "ipython3",
   "version": "3.6.2"
  }
 },
 "nbformat": 4,
 "nbformat_minor": 2
}
